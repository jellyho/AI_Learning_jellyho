{
  "nbformat": 4,
  "nbformat_minor": 0,
  "metadata": {
    "colab": {
      "name": "1_Perceptron&Adaline&SGD.ipynb",
      "provenance": [],
      "collapsed_sections": [],
      "authorship_tag": "ABX9TyNOU94VmppXolyqENDlJxcz",
      "include_colab_link": true
    },
    "kernelspec": {
      "display_name": "Python 3",
      "name": "python3"
    },
    "language_info": {
      "name": "python"
    }
  },
  "cells": [
    {
      "cell_type": "markdown",
      "metadata": {
        "id": "view-in-github",
        "colab_type": "text"
      },
      "source": [
        "<a href=\"https://colab.research.google.com/github/jellyho/AI_Learning_jellyho/blob/main/1_Perceptron%26Adaline%26SGD.ipynb\" target=\"_parent\"><img src=\"https://colab.research.google.com/assets/colab-badge.svg\" alt=\"Open In Colab\"/></a>"
      ]
    },
    {
      "cell_type": "markdown",
      "metadata": {
        "id": "qONPOShz3JJV"
      },
      "source": [
        "패키지 불러오기, 퍼셉트론 클래스 정의"
      ]
    },
    {
      "cell_type": "code",
      "metadata": {
        "id": "gz6UXuMExhEz"
      },
      "source": [
        "import numpy as np\n",
        "import pandas as pd\n",
        "import matplotlib.pyplot as plt\n",
        "\n",
        "class Perceptron(object):\n",
        "  def __init__(self, eta=0.01, n_iter=50, random_state=1):\n",
        "    self.eta = eta\n",
        "    self.n_iter = n_iter\n",
        "    self.random_state = random_state\n",
        "  \n",
        "  def fit(self, X, y):\n",
        "    rgen = np.random.RandomState(self.random_state)\n",
        "    self.w_ = rgen.normal(loc=0.0, scale=0.01, size=1 + X.shape[1])\n",
        "    self.errors_ = []\n",
        "    for _ in range(self.n_iter):\n",
        "      errors = 0\n",
        "      for xi, target in zip(X, y):\n",
        "        update = self.eta * (target - self.predict(xi))\n",
        "        self.w_[1:] += update * xi\n",
        "        self.w_[0] += update\n",
        "        errors += int(update != 0.0)\n",
        "      self.errors_.append(errors)\n",
        "    return self\n",
        "\n",
        "  def net_input(self, X):\n",
        "    return np.dot(X,self.w_[1:]) + self.w_[0]\n",
        "\n",
        "  def predict(self, X):\n",
        "    return np.where(self.net_input(X) >= 0.0, 1, -1)"
      ],
      "execution_count": null,
      "outputs": []
    },
    {
      "cell_type": "markdown",
      "metadata": {
        "id": "nKqfaC3E3QO-"
      },
      "source": [
        "붓꽃 데이터를 받아와서 영문 라벨 대신에 숫자로 매핑, 산점도로 표현"
      ]
    },
    {
      "cell_type": "code",
      "metadata": {
        "colab": {
          "base_uri": "https://localhost:8080/",
          "height": 279
        },
        "id": "qSbTjnN_0eEt",
        "outputId": "96ee341c-b41b-4d2c-fc32-ed51bdb5f01a"
      },
      "source": [
        "df = pd.read_csv('https://archive.ics.uci.edu/ml/machine-learning-databases/iris/iris.data',header=None)\n",
        "\n",
        "y = df.iloc[0:100, 4].values\n",
        "y = np.where(y == 'Iris-setosa', -1, 1)\n",
        "\n",
        "X = df.iloc[0:100, [0,2]].values\n",
        "\n",
        "plt.scatter(X[:50, 0], X[:50, 1], color='red', marker='o', label='setosa')\n",
        "plt.scatter(X[50:100, 0], X[50:100, 1], color='blue', marker='x', label='versicolor')\n",
        "plt.xlabel('sepal length [cm]')\n",
        "plt.ylabel('petal length [cm]')\n",
        "plt.legend(loc='upper left')\n",
        "plt.show()\n"
      ],
      "execution_count": null,
      "outputs": [
        {
          "output_type": "display_data",
          "data": {
            "image/png": "[encoded data removed]",
            "text/plain": [
              "<Figure size 432x288 with 1 Axes>"
            ]
          },
          "metadata": {
            "tags": [],
            "needs_background": "light"
          }
        }
      ]
    },
    {
      "cell_type": "markdown",
      "metadata": {
        "id": "alOCRHvJ3YNV"
      },
      "source": [
        "퍼셉트론 클래스를 이용해 학습, 오차 횟수를 표현"
      ]
    },
    {
      "cell_type": "code",
      "metadata": {
        "colab": {
          "base_uri": "https://localhost:8080/",
          "height": 279
        },
        "id": "YM_nQWXm2mtt",
        "outputId": "4c0271da-509c-46c4-cff1-d4248bd15c5f"
      },
      "source": [
        "ppn = Perceptron(eta=0.1, n_iter=10)\n",
        "ppn.fit(X, y)\n",
        "plt.plot(range(1, len(ppn.errors_) + 1), ppn.errors_, marker='o')\n",
        "plt.xlabel('Epochs')\n",
        "plt.ylabel('Number of errors')\n",
        "plt.show()"
      ],
      "execution_count": null,
      "outputs": [
        {
          "output_type": "display_data",
          "data": {
            "image/png": "[encoded data removed]",
            "text/plain": [
              "<Figure size 432x288 with 1 Axes>"
            ]
          },
          "metadata": {
            "tags": [],
            "needs_background": "light"
          }
        }
      ]
    },
    {
      "cell_type": "markdown",
      "metadata": {
        "id": "WDltYxZ13cqr"
      },
      "source": [
        "결정경계 시각화 함수 정의"
      ]
    },
    {
      "cell_type": "code",
      "metadata": {
        "id": "Yv4ApR1V4AN5"
      },
      "source": [
        "from matplotlib.colors import ListedColormap\n",
        "\n",
        "def plot_decision_regions(X, y, classifier, resolution=0.02):\n",
        "  markers = ('s', 'x', 'o', '^', 'v')\n",
        "  colors = ('red', 'blue', 'lightgreen', 'gray', 'cyan')\n",
        "  cmap = ListedColormap(colors[:len(np.unique(y))])\n",
        "\n",
        "  x1_min, x1_max = X[:, 0].min() - 1, X[:, 0].max() + 1\n",
        "  x2_min, x2_max = X[:, 1].min() - 1, X[:, 1].max() + 1\n",
        "\n",
        "  xx1, xx2 = np.meshgrid(np.arange(x1_min, x1_max, resolution),np.arange(x2_min, x2_max, resolution))\n",
        "  Z = classifier.predict(np.array([xx1.ravel(), xx2.ravel()]).T)\n",
        "  Z = Z.reshape(xx1.shape)\n",
        "  plt.contourf(xx1, xx2, Z, alpha=0.3, cmap=cmap)\n",
        "  plt.xlim(xx1.min(), xx1.max())\n",
        "  plt.ylim(xx2.min(), xx2.max())\n",
        "\n",
        "  for idx, cl in enumerate(np.unique(y)):\n",
        "    plt.scatter(x=X[y == cl, 0], y=X[y == cl, 1], alpha=0.8, c=colors[idx], marker=markers[idx], label=cl, edgecolor='black')"
      ],
      "execution_count": null,
      "outputs": []
    },
    {
      "cell_type": "markdown",
      "metadata": {
        "id": "WJ1iOIf3_bQn"
      },
      "source": [
        "결정경계 시각화"
      ]
    },
    {
      "cell_type": "code",
      "metadata": {
        "colab": {
          "base_uri": "https://localhost:8080/",
          "height": 280
        },
        "id": "l6A8B-hO-wut",
        "outputId": "2b8a2ffc-3d15-48d6-e372-9cb3369a5d1b"
      },
      "source": [
        "plot_decision_regions(X, y, classifier=ppn)\n",
        "plt.xlabel('sepal length [cm]')\n",
        "plt.ylabel('petal length [cm]')\n",
        "plt.legend(loc='upper left')\n",
        "plt.show()\n"
      ],
      "execution_count": null,
      "outputs": [
        {
          "output_type": "display_data",
          "data": {
            "image/png": "[encoded data removed]",
            "text/plain": [
              "<Figure size 432x288 with 1 Axes>"
            ]
          },
          "metadata": {
            "tags": [],
            "needs_background": "light"
          }
        }
      ]
    },
    {
      "cell_type": "markdown",
      "metadata": {
        "id": "bpq0h4_s_d4f"
      },
      "source": [
        "예측 정상적으로 되는지 확인"
      ]
    },
    {
      "cell_type": "code",
      "metadata": {
        "colab": {
          "base_uri": "https://localhost:8080/"
        },
        "id": "MCZUnNyy_eqN",
        "outputId": "db7437bb-403d-48e7-b7e0-bf6ee258f3e5"
      },
      "source": [
        "num = 43\n",
        "print(ppn.predict(X[num]),y[num])"
      ],
      "execution_count": null,
      "outputs": [
        {
          "output_type": "stream",
          "text": [
            "-1 -1\n"
          ],
          "name": "stdout"
        }
      ]
    },
    {
      "cell_type": "markdown",
      "metadata": {
        "id": "CdYcTuANuULY"
      },
      "source": [
        "활성함수가 계단함수가 아닌 퍼셉트론, 아달린 구현"
      ]
    },
    {
      "cell_type": "code",
      "metadata": {
        "id": "dRLBb9M0ua7_"
      },
      "source": [
        "class Adaline(object):\n",
        "  def __init__(self, eta=0.01, n_iter=50, random_state=1):\n",
        "    self.eta = eta\n",
        "    self.n_iter = n_iter\n",
        "    self.random_state = random_state\n",
        "\n",
        "  def fit(self, X, y):\n",
        "    rgen = np.random.RandomState(self.random_state)\n",
        "    self.w_ = rgen.normal(loc=0.0, scale=0.01, size=1 + X.shape[1])\n",
        "    self.cost_ = []\n",
        "\n",
        "    for i in range(self.n_iter):\n",
        "      net_input = self.net_input(X)\n",
        "      output = self.activation(net_input)\n",
        "      errors = (y - output)\n",
        "      self.w_[1:] += self.eta * X.T.dot(errors)\n",
        "      self.w_[0] += self.eta * errors.sum()\n",
        "      cost = (errors**2).sum() / 2.0\n",
        "      self.cost_.append(cost)\n",
        "    return self\n",
        "\n",
        "  def net_input(self, X):\n",
        "    return np.dot(X, self.w_[1:]) + self.w_[0]\n",
        "\n",
        "  def activation(self, X):\n",
        "    return X\n",
        "\n",
        "  def predict(self, X):\n",
        "    return np.where(self.activation(self.net_input(X))>= 0.0, 1, -1)"
      ],
      "execution_count": null,
      "outputs": []
    },
    {
      "cell_type": "markdown",
      "metadata": {
        "id": "Rjr3iXK92lMS"
      },
      "source": [
        "특성 스케일을 조정하여 결과 향상 시키기(표준화)"
      ]
    },
    {
      "cell_type": "code",
      "metadata": {
        "id": "UIM-z7_Ww4Ej"
      },
      "source": [
        "X_std = np.copy(X)\n",
        "X_std[:,0] = (X[:,0] - X[:,0].mean()) / X[:,0].std()\n",
        "X_std[:,1] = (X[:,1] - X[:,1].mean()) / X[:,1].std()"
      ],
      "execution_count": null,
      "outputs": []
    },
    {
      "cell_type": "markdown",
      "metadata": {
        "id": "yLPAuvaxxUzj"
      },
      "source": [
        "표준화 후 아달린 결정 경계와 학습 곡선"
      ]
    },
    {
      "cell_type": "code",
      "metadata": {
        "colab": {
          "base_uri": "https://localhost:8080/",
          "height": 559
        },
        "id": "wZvB-nvlxUcE",
        "outputId": "8101135e-8426-418e-96d2-d2616848462e"
      },
      "source": [
        "ada = Adaline(n_iter=15, eta=0.01)\n",
        "ada.fit(X_std, y)\n",
        "\n",
        "plot_decision_regions(X_std, y, classifier=ada)\n",
        "plt.title('Adaline Gradient Descent')\n",
        "plt.xlabel('sepal length [std]')\n",
        "plt.ylabel('sepal length [std]')\n",
        "plt.legend(loc='upper left')\n",
        "plt.tight_layout()\n",
        "plt.show()\n",
        "\n",
        "plt.plot(range(1, len(ada.cost_) + 1), ada.cost_, marker='o')\n",
        "plt.xlabel('Epochs')\n",
        "plt.ylabel('Sum-squared-error')\n",
        "plt.show()"
      ],
      "execution_count": null,
      "outputs": [
        {
          "output_type": "display_data",
          "data": {
            "image/png": "[encoded data removed]",
            "text/plain": [
              "<Figure size 432x288 with 1 Axes>"
            ]
          },
          "metadata": {
            "tags": [],
            "needs_background": "light"
          }
        },
        {
          "output_type": "display_data",
          "data": {
            "image/png": "[encoded data removed]",
            "text/plain": [
              "<Figure size 432x288 with 1 Axes>"
            ]
          },
          "metadata": {
            "tags": [],
            "needs_background": "light"
          }
        }
      ]
    },
    {
      "cell_type": "markdown",
      "metadata": {
        "id": "RPLvVgWxzY3Z"
      },
      "source": [
        "마지막으로, 온라인 학습을 위해 부분적으로 학습을 할 수 있는 확률적 경사 하강법을 구현"
      ]
    },
    {
      "cell_type": "code",
      "metadata": {
        "id": "ML-2iKOwzfHr"
      },
      "source": [
        "class SGD(object):\n",
        "  def __init__(self, eta=0.01, n_iter=10, shuffle=True, random_state=1):\n",
        "    self.eta = eta\n",
        "    self.n_iter = n_iter\n",
        "    self.w_iniitalized = False\n",
        "    self.shuffle = shuffle\n",
        "    self.random_state = random_state\n",
        "\n",
        "  def fit(self, X, y):\n",
        "    self._initialize_weights(X.shape[1])\n",
        "    self.cost_ = []\n",
        "\n",
        "    for i in range(self.n_iter):\n",
        "      if self.shuffle:\n",
        "        X, y = self._shuffle(X, y)\n",
        "      cost = []\n",
        "      for xi, target in zip(X, y):\n",
        "        cost.append(self._update_weights(xi, target))\n",
        "      avg_cost = sum(cost) / len(y)\n",
        "      self.cost_.append(avg_cost)\n",
        "    return self\n",
        "\n",
        "  def partial_fit(self, X, y):\n",
        "    if not self.w_iniitalized:\n",
        "      self._initialize_weights(X.shape[1])\n",
        "    if y.ravel().shape[0] > 1:\n",
        "      for xi, target in zip(X, y):\n",
        "        self._update_weights(xi, target)\n",
        "    else:\n",
        "      self._update_weights(X, y)\n",
        "    return self\n",
        "\n",
        "  def _shuffle(self, X, y):\n",
        "    r = self.rgen.permutation(len(y))\n",
        "    return X[r], y[r]\n",
        "\n",
        "  def _initialize_weights(self, m):\n",
        "    self.rgen = np.random.RandomState(self.random_state)\n",
        "    self.w_ = self.rgen.normal(loc=0.0, scale=0.01, size=1 + m)\n",
        "    self.w_iniitalized = True\n",
        "\n",
        "  def _update_weights(self, xi, target):\n",
        "    output = self.activation(self.net_input(xi))\n",
        "    error = (target - output)\n",
        "    self.w_[1:] += self.eta * xi.dot(error)\n",
        "    self.w_[0] += self.eta * error\n",
        "    cost = 0.5 * error**2\n",
        "    return cost\n",
        "\n",
        "  def net_input(self, X):\n",
        "    return np.dot(X, self.w_[1:]) + self.w_[0]\n",
        "\n",
        "  def activation(self, X):\n",
        "    return X\n",
        "\n",
        "  def predict(self, X):\n",
        "    return np.where(self.activation(self.net_input(X))>= 0.0, 1, -1)"
      ],
      "execution_count": null,
      "outputs": []
    },
    {
      "cell_type": "markdown",
      "metadata": {
        "id": "zmAp7OP24F7S"
      },
      "source": [
        "SGD 실행 결과"
      ]
    },
    {
      "cell_type": "code",
      "metadata": {
        "colab": {
          "base_uri": "https://localhost:8080/",
          "height": 557
        },
        "id": "llElUqnP2IlH",
        "outputId": "2d20e3c2-9e4c-46ef-ed89-864a370fca59"
      },
      "source": [
        "sgd = SGD(n_iter=15, eta=0.01, random_state=10)\n",
        "sgd.fit(X_std, y)\n",
        "\n",
        "plot_decision_regions(X_std, y, classifier=ada)\n",
        "plt.title('Adaline - SGD')\n",
        "plt.xlabel('sepal length')\n",
        "plt.ylabel('petal length')\n",
        "plt.legend(loc='upper left')\n",
        "plt.show()\n",
        "\n",
        "plt.plot(range(1, len(sgd.cost_) + 1), sgd.cost_, marker='o')\n",
        "plt.xlabel('Epochs')\n",
        "plt.ylabel('Average Cost')\n",
        "plt.show()"
      ],
      "execution_count": null,
      "outputs": [
        {
          "output_type": "display_data",
          "data": {
            "image/png": "[encoded data removed]",
            "text/plain": [
              "<Figure size 432x288 with 1 Axes>"
            ]
          },
          "metadata": {
            "tags": [],
            "needs_background": "light"
          }
        },
        {
          "output_type": "display_data",
          "data": {
            "image/png": "[encoded data removed]",
            "text/plain": [
              "<Figure size 432x288 with 1 Axes>"
            ]
          },
          "metadata": {
            "tags": [],
            "needs_background": "light"
          }
        }
      ]
    }
  ]
}