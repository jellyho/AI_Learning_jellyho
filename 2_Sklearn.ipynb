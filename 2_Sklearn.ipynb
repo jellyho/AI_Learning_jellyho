{
  "nbformat": 4,
  "nbformat_minor": 0,
  "metadata": {
    "colab": {
      "name": "2_sklearn.ipynb",
      "provenance": [],
      "collapsed_sections": [],
      "authorship_tag": "ABX9TyMqGrtAweWNYJVNBQwwaRsm",
      "include_colab_link": true
    },
    "kernelspec": {
      "name": "python3",
      "display_name": "Python 3"
    },
    "language_info": {
      "name": "python"
    }
  },
  "cells": [
    {
      "cell_type": "markdown",
      "metadata": {
        "id": "view-in-github",
        "colab_type": "text"
      },
      "source": [
        "<a href=\"https://colab.research.google.com/github/jellyho/AI_Learning_jellyho/blob/main/2_Sklearn.ipynb\" target=\"_parent\"><img src=\"https://colab.research.google.com/assets/colab-badge.svg\" alt=\"Open In Colab\"/></a>"
      ]
    },
    {
      "cell_type": "markdown",
      "metadata": {
        "id": "gRQ_QN1bGblt"
      },
      "source": [
        "사이킷런을 사용해서 더 쉽게 모델 만들기"
      ]
    },
    {
      "cell_type": "code",
      "metadata": {
        "id": "QN73aLE9CD1G"
      },
      "source": [
        "from sklearn import datasets\n",
        "import numpy as np"
      ],
      "execution_count": null,
      "outputs": []
    },
    {
      "cell_type": "markdown",
      "metadata": {
        "id": "hrtABEnXLAZC"
      },
      "source": [
        "붓꽃 데이터셋 불러오기"
      ]
    },
    {
      "cell_type": "code",
      "metadata": {
        "colab": {
          "base_uri": "https://localhost:8080/"
        },
        "id": "ZRnGV4zOCgkI",
        "outputId": "6dab2b2c-3a69-4170-aec6-5e389691d179"
      },
      "source": [
        "iris = datasets.load_iris()\n",
        "X = iris.data[:, [2,3]]\n",
        "y = iris.target\n",
        "print('label', np.unique(y))"
      ],
      "execution_count": null,
      "outputs": [
        {
          "output_type": "stream",
          "text": [
            "label [0 1 2]\n"
          ],
          "name": "stdout"
        }
      ]
    },
    {
      "cell_type": "markdown",
      "metadata": {
        "id": "yN0ByP8RLD22"
      },
      "source": [
        "훈련셋, 테스트셋 분리"
      ]
    },
    {
      "cell_type": "code",
      "metadata": {
        "id": "NVa67PYLCuyc"
      },
      "source": [
        "from sklearn.model_selection import train_test_split\n",
        "X_train, X_test, y_train, y_test = train_test_split(X, y, test_size=0.3, random_state=1, stratify=y)"
      ],
      "execution_count": null,
      "outputs": []
    },
    {
      "cell_type": "markdown",
      "metadata": {
        "id": "_eBF-LLcLJNE"
      },
      "source": [
        "데이터 표준화"
      ]
    },
    {
      "cell_type": "code",
      "metadata": {
        "id": "7bEdxi95DSLk"
      },
      "source": [
        "from sklearn.preprocessing import StandardScaler as SC\n",
        "sc = SC()\n",
        "sc.fit(X_train)\n",
        "X_train_std = sc.transform(X_train)\n",
        "X_test_std = sc.transform(X_test)"
      ],
      "execution_count": null,
      "outputs": []
    },
    {
      "cell_type": "markdown",
      "metadata": {
        "id": "kZLpRtRSLKmL"
      },
      "source": [
        "퍼셉트론 불러오기"
      ]
    },
    {
      "cell_type": "code",
      "metadata": {
        "colab": {
          "base_uri": "https://localhost:8080/"
        },
        "id": "OJZFdkz5EhV_",
        "outputId": "c936ee49-3100-494f-d333-5fc6f3a69b6d"
      },
      "source": [
        "from sklearn.linear_model import Perceptron\n",
        "\n",
        "ppn = Perceptron(max_iter=40, eta0=0.1, tol=1e-3, random_state=1)\n",
        "ppn.fit(X_train_std, y_train)"
      ],
      "execution_count": null,
      "outputs": [
        {
          "output_type": "execute_result",
          "data": {
            "text/plain": [
              "Perceptron(alpha=0.0001, class_weight=None, early_stopping=False, eta0=0.1,\n",
              "           fit_intercept=True, max_iter=40, n_iter_no_change=5, n_jobs=None,\n",
              "           penalty=None, random_state=1, shuffle=True, tol=0.001,\n",
              "           validation_fraction=0.1, verbose=0, warm_start=False)"
            ]
          },
          "metadata": {
            "tags": []
          },
          "execution_count": 13
        }
      ]
    },
    {
      "cell_type": "markdown",
      "metadata": {
        "id": "g7XfAPqHLMxc"
      },
      "source": [
        "결정경계 시각화 함수(테스트 셋은 동그라미로 부각)"
      ]
    },
    {
      "cell_type": "code",
      "metadata": {
        "id": "l6UnJ-DtHSak"
      },
      "source": [
        "from matplotlib.colors import ListedColormap\n",
        "import matplotlib.pyplot as plt\n",
        "\n",
        "def plot_decision_regions(X, y, classifier, test_idx=None, resolution=0.02):\n",
        "  markers = ('s', 'x', 'o', '^', 'v')\n",
        "  colors = ('red', 'blue', 'lightgreen', 'gray', 'cyan')\n",
        "  cmap = ListedColormap(colors[:len(np.unique(y))])\n",
        "\n",
        "  x1_min, x1_max = X[:, 0].min() - 1, X[:, 0].max() + 1\n",
        "  x2_min, x2_max = X[:, 1].min() - 1, X[:, 1].max() + 1\n",
        "\n",
        "  xx1, xx2 = np.meshgrid(np.arange(x1_min, x1_max, resolution),np.arange(x2_min, x2_max, resolution))\n",
        "  Z = classifier.predict(np.array([xx1.ravel(), xx2.ravel()]).T)\n",
        "  Z = Z.reshape(xx1.shape)\n",
        "  plt.contourf(xx1, xx2, Z, alpha=0.3, cmap=cmap)\n",
        "  plt.xlim(xx1.min(), xx1.max())\n",
        "  plt.ylim(xx2.min(), xx2.max())\n",
        "\n",
        "  for idx, cl in enumerate(np.unique(y)):\n",
        "    plt.scatter(x=X[y == cl, 0], y=X[y == cl, 1], alpha=0.8, c=colors[idx], marker=markers[idx], label=cl, edgecolor='black')\n",
        "  \n",
        "  if test_idx:\n",
        "    X_test, y_test = X[test_idx, :], y[test_idx]\n",
        "    plt.scatter(X_test[:, 0], X_test[:, 1],c='', edgecolor='black', alpha=1.0, linewidth=1, marker='o',s=100,label='test set')"
      ],
      "execution_count": null,
      "outputs": []
    },
    {
      "cell_type": "markdown",
      "metadata": {
        "id": "qi87nO6ALTk1"
      },
      "source": [
        "퍼셉트론으로 OvR방식을 통해 분류!"
      ]
    },
    {
      "cell_type": "code",
      "metadata": {
        "colab": {
          "base_uri": "https://localhost:8080/",
          "height": 334
        },
        "id": "Dv_0a7Y8JD_B",
        "outputId": "80c520bf-69af-4eca-d799-bdeb334f4102"
      },
      "source": [
        "X_combined_std = np.vstack((X_train_std, X_test_std))\n",
        "y_combined = np.hstack((y_train, y_test))\n",
        "\n",
        "plot_decision_regions(X=X_combined_std, y=y_combined, classifier=ppn, test_idx=range(105,150))\n",
        "plt.legend(loc='upper left')\n",
        "plt.tight_layout()\n",
        "plt.show()"
      ],
      "execution_count": null,
      "outputs": [
        {
          "output_type": "stream",
          "text": [
            "/usr/local/lib/python3.7/dist-packages/ipykernel_launcher.py:24: MatplotlibDeprecationWarning: Using a string of single character colors as a color sequence is deprecated. Use an explicit list instead.\n"
          ],
          "name": "stderr"
        },
        {
          "output_type": "display_data",
          "data": {
            "image/png": "[encoded data removed]",
            "text/plain": [
              "<Figure size 432x288 with 1 Axes>"
            ]
          },
          "metadata": {
            "tags": [],
            "needs_background": "light"
          }
        }
      ]
    },
    {
      "cell_type": "markdown",
      "metadata": {
        "id": "VWST3RglLatP"
      },
      "source": [
        ""
      ]
    },
    {
      "cell_type": "code",
      "metadata": {
        "id": "oDCJuE7wLbEZ"
      },
      "source": [
        ""
      ],
      "execution_count": null,
      "outputs": []
    }
  ]
}