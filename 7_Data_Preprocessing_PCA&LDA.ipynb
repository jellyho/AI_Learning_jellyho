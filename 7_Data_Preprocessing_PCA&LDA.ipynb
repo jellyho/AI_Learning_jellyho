{
  "nbformat": 4,
  "nbformat_minor": 0,
  "metadata": {
    "colab": {
      "name": "7_Data_Preprocessing_PCA&LDA.ipynb",
      "provenance": [],
      "collapsed_sections": [],
      "authorship_tag": "ABX9TyPn0yuzsIpmWUz9TeO76HUu",
      "include_colab_link": true
    },
    "kernelspec": {
      "name": "python3",
      "display_name": "Python 3"
    },
    "language_info": {
      "name": "python"
    }
  },
  "cells": [
    {
      "cell_type": "markdown",
      "metadata": {
        "id": "view-in-github",
        "colab_type": "text"
      },
      "source": [
        "<a href=\"https://colab.research.google.com/github/jellyho/AI_Learning_jellyho/blob/main/7_Data_Preprocessing_PCA%26LDA.ipynb\" target=\"_parent\"><img src=\"https://colab.research.google.com/assets/colab-badge.svg\" alt=\"Open In Colab\"/></a>"
      ]
    },
    {
      "cell_type": "markdown",
      "metadata": {
        "id": "KymNKEJHx_6G"
      },
      "source": [
        "1. PCA로 주성분 추출하기 (비지도 차원 축소)"
      ]
    },
    {
      "cell_type": "code",
      "metadata": {
        "id": "rA6MAYgxyEuk"
      },
      "source": [
        "import pandas as pd\n",
        "import numpy as np\n",
        "import matplotlib.pyplot as plt\n",
        "\n",
        "df_wine = pd.read_csv('https://archive.ics.uci.edu/ml/machine-learning-databases/wine/wine.data',header=None)"
      ],
      "execution_count": 1,
      "outputs": []
    },
    {
      "cell_type": "markdown",
      "metadata": {
        "id": "EDyR-cpX7e7Y"
      },
      "source": [
        "테스트 셋 분리하고 표준화"
      ]
    },
    {
      "cell_type": "code",
      "metadata": {
        "id": "x0PtRTRqygKZ"
      },
      "source": [
        "from sklearn.model_selection import train_test_split\n",
        "X, y = df_wine.iloc[:, 1:].values, df_wine.iloc[:, 0].values\n",
        "X_train, X_test, y_train, y_test = train_test_split(X, y, test_size=0.3, stratify=y, random_state=0)\n",
        "\n",
        "from sklearn.preprocessing import StandardScaler as SC\n",
        "sc = SC()\n",
        "X_train_std = sc.fit_transform(X_train)\n",
        "X_test_std = sc.transform(X_test)"
      ],
      "execution_count": 2,
      "outputs": []
    },
    {
      "cell_type": "markdown",
      "metadata": {
        "id": "Fpegmdd-7iHo"
      },
      "source": [
        "공분산 행렬 구해서 고윳값과 고유벡터 구하기, 그리고 그 중에서 분산이 제일 높은 벡터 두개만 구해서 투영 행렬을 구성하고 투영해서 N*2 차원의 행렬로 변경, 산점도 그리기"
      ]
    },
    {
      "cell_type": "code",
      "metadata": {
        "colab": {
          "base_uri": "https://localhost:8080/",
          "height": 265
        },
        "id": "FnAim2ebz-2B",
        "outputId": "d5b7f9bc-7150-4254-8a4c-cd22b909104d"
      },
      "source": [
        "cov_matrix = np.cov(X_train_std.T)\n",
        "eigen_vals, eigen_vecs = np.linalg.eig(cov_matrix)\n",
        "\n",
        "eigen_pairs = [(np.abs(eigen_vals[i]), eigen_vecs[:, i]) for i in range(len(eigen_vals))]\n",
        "\n",
        "eigen_pairs.sort(key=lambda k: k[0], reverse=True)\n",
        "\n",
        "w = np.hstack((eigen_pairs[0][1][:, np.newaxis], eigen_pairs[1][1][:, np.newaxis]))\n",
        "\n",
        "X_train_pca = X_train_std.dot(w)\n",
        "\n",
        "colors = ['r', 'b', 'g']\n",
        "markers = ['s', 'x', 'o']\n",
        "\n",
        "for i, c, m in zip(np.unique(y_train), colors, markers):\n",
        "  plt.scatter(X_train_pca[y_train==i, 0], X_train_pca[y_train==i, 1], c=c, label=i, marker=m)\n",
        "\n",
        "plt.legend(loc='best')\n",
        "plt.show()"
      ],
      "execution_count": 3,
      "outputs": [
        {
          "output_type": "display_data",
          "data": {
            "image/png": "[encoded data removed]",
            "text/plain": [
              "<Figure size 432x288 with 1 Axes>"
            ]
          },
          "metadata": {
            "tags": [],
            "needs_background": "light"
          }
        }
      ]
    },
    {
      "cell_type": "markdown",
      "metadata": {
        "id": "nAdZu9iQ78VH"
      },
      "source": [
        "사이킷런으로 사용하기"
      ]
    },
    {
      "cell_type": "code",
      "metadata": {
        "colab": {
          "base_uri": "https://localhost:8080/",
          "height": 265
        },
        "id": "JXLAbqLN7-ON",
        "outputId": "c0228c7b-a53f-4f2d-a194-0a9ee0bb7d62"
      },
      "source": [
        "from sklearn.decomposition import PCA\n",
        "pca = PCA(n_components=2)\n",
        "X_train_pca = pca.fit_transform(X_train_std)\n",
        "X_test_pca = pca.transform(X_test_std)\n",
        "\n",
        "colors = ['r', 'b', 'g']\n",
        "markers = ['s', 'x', 'o']\n",
        "\n",
        "for i, c, m in zip(np.unique(y_train), colors, markers):\n",
        "  plt.scatter(X_train_pca[y_train==i, 0], X_train_pca[y_train==i, 1], c=c, label=i, marker=m)\n",
        "\n",
        "plt.legend(loc='best')\n",
        "plt.show()"
      ],
      "execution_count": 4,
      "outputs": [
        {
          "output_type": "display_data",
          "data": {
            "image/png": "[encoded data removed]",
            "text/plain": [
              "<Figure size 432x288 with 1 Axes>"
            ]
          },
          "metadata": {
            "tags": [],
            "needs_background": "light"
          }
        }
      ]
    },
    {
      "cell_type": "markdown",
      "metadata": {
        "id": "vcK2C6Fh8d__"
      },
      "source": [
        "이 상태로 선형 분류기를 사용하면 잘 분류가 될 것 같다."
      ]
    },
    {
      "cell_type": "markdown",
      "metadata": {
        "id": "9XFP8K5i8tRG"
      },
      "source": [
        "2. LDA로 데이터 압축하기"
      ]
    },
    {
      "cell_type": "markdown",
      "metadata": {
        "id": "wjGJk3mf05q_"
      },
      "source": [
        "먼저 클래스별 특성의 평균을 구해서 평균 벡터를 구해준다."
      ]
    },
    {
      "cell_type": "code",
      "metadata": {
        "colab": {
          "base_uri": "https://localhost:8080/"
        },
        "id": "NHaGnaTHz_16",
        "outputId": "f79e346e-179e-4091-a413-06a9909768f1"
      },
      "source": [
        "np.set_printoptions(precision=4)\n",
        "mean_vecs = []\n",
        "for label in range(1, 4):\n",
        "  mean_vecs.append(np.mean(X_train_std[y_train==label], axis=0))\n",
        "  print(f\"{label} {mean_vecs[label-1]}\")"
      ],
      "execution_count": 5,
      "outputs": [
        {
          "output_type": "stream",
          "text": [
            "1 [ 0.9066 -0.3497  0.3201 -0.7189  0.5056  0.8807  0.9589 -0.5516  0.5416\n",
            "  0.2338  0.5897  0.6563  1.2075]\n",
            "2 [-0.8749 -0.2848 -0.3735  0.3157 -0.3848 -0.0433  0.0635 -0.0946  0.0703\n",
            " -0.8286  0.3144  0.3608 -0.7253]\n",
            "3 [ 0.1992  0.866   0.1682  0.4148 -0.0451 -1.0286 -1.2876  0.8287 -0.7795\n",
            "  0.9649 -1.209  -1.3622 -0.4013]\n"
          ],
          "name": "stdout"
        }
      ]
    },
    {
      "cell_type": "markdown",
      "metadata": {
        "id": "mc72T5wc1rJn"
      },
      "source": [
        "클래스 내 산포 행렬, 클래스 간 산포 행렬 구하기"
      ]
    },
    {
      "cell_type": "code",
      "metadata": {
        "colab": {
          "base_uri": "https://localhost:8080/"
        },
        "id": "Y9k4uh8j1rcn",
        "outputId": "ebb42486-635b-4e3d-a6f7-bab1b881f8ca"
      },
      "source": [
        "d = 13 # 특성 개수\n",
        "S_W = np.zeros((d, d))\n",
        "for label, mv in zip(range(1, 4), mean_vecs):\n",
        "  class_scatter = np.cov(X_train_std[y_train==label].T, bias=True)\n",
        "  S_W += class_scatter\n",
        "\n",
        "mean_overall = np.mean(X_train_std, axis=0)\n",
        "mean_overall = mean_overall.reshape(d, 1)\n",
        "\n",
        "S_B = np.zeros((d, d))\n",
        "for i, mean_vec in enumerate(mean_vecs):\n",
        "  n = X_train[y_train == i + 1, :].shape[0]\n",
        "  mean_vec = mean_vec.reshape(d, 1)\n",
        "  S_B += n * (mean_vec - mean_overall).dot((mean_vec - mean_overall).T)\n",
        "\n",
        "eigen_vals_lda, eigen_vecs_lda = np.linalg.eig(np.linalg.inv(S_W).dot(S_B))\n",
        "eigen_pairs_lda = [(np.abs(eigen_vals_lda[i]), eigen_vecs_lda[:, i]) for i in range(len(eigen_vals_lda))]\n",
        "eigen_pairs_lda = sorted(eigen_pairs_lda, key = lambda k: k[0], reverse=True)\n",
        "\n",
        "for eigen_val_lda in eigen_pairs_lda:\n",
        "  print(eigen_val_lda[0], eigen_val_lda[1])"
      ],
      "execution_count": 6,
      "outputs": [
        {
          "output_type": "stream",
          "text": [
            "358.0042070133659 [-0.1484+0.j  0.091 +0.j -0.0168+0.j  0.1487+0.j -0.0165+0.j  0.1912+0.j\n",
            " -0.7333+0.j -0.0751+0.j  0.002 +0.j  0.2953+0.j -0.0327+0.j -0.3539+0.j\n",
            " -0.3918+0.j]\n",
            "177.07768640666228 [-0.4093+0.j -0.1583+0.j -0.3536+0.j  0.322 +0.j -0.0813+0.j  0.0841+0.j\n",
            "  0.2828+0.j -0.0099+0.j  0.0902+0.j -0.2168+0.j  0.274 +0.j -0.0133+0.j\n",
            " -0.5954+0.j]\n",
            "2.842170943040401e-14 [ 0.7518+0.j -0.0838+0.j -0.2405+0.j  0.2514+0.j -0.0584+0.j  0.1026+0.j\n",
            "  0.0112+0.j -0.0248+0.j  0.0608+0.j -0.0733+0.j  0.1753+0.j -0.0947+0.j\n",
            " -0.4932+0.j]\n",
            "2.4212577013065712e-14 [-0.726 +0.j  0.0662+0.j  0.3181+0.j -0.2456+0.j  0.0801+0.j -0.1945+0.j\n",
            "  0.0085+0.j  0.0427+0.j -0.0659+0.j  0.0875+0.j -0.1418+0.j  0.1547+0.j\n",
            "  0.4526+0.j]\n",
            "1.7893216852990086e-14 [ 0.3439+0.j  0.1126+0.j  0.4581+0.j  0.0339+0.j -0.2466+0.j -0.1634+0.j\n",
            " -0.2133+0.j  0.0907+0.j -0.0773+0.j -0.3556+0.j -0.2345+0.j  0.5739+0.j\n",
            "  0.0125+0.j]\n",
            "1.5846823701627717e-14 [ 0.5263+0.j     -0.0246-0.1027j -0.1105-0.4922j  0.0796+0.1016j\n",
            "  0.0291+0.2184j -0.1775+0.0338j -0.0877-0.0185j -0.0206-0.0187j\n",
            " -0.0387+0.0296j -0.2739+0.0925j  0.1088+0.3j     0.0541-0.3599j\n",
            " -0.1602+0.0692j]\n",
            "1.5846823701627717e-14 [ 0.5263-0.j     -0.0246+0.1027j -0.1105+0.4922j  0.0796-0.1016j\n",
            "  0.0291-0.2184j -0.1775-0.0338j -0.0877+0.0185j -0.0206+0.0187j\n",
            " -0.0387-0.0296j -0.2739-0.0925j  0.1088-0.3j     0.0541+0.3599j\n",
            " -0.1602-0.0692j]\n",
            "1.4548382986208515e-14 [ 0.6269+0.j  0.0237+0.j -0.3519+0.j  0.3176+0.j -0.1216+0.j  0.2744+0.j\n",
            "  0.1781+0.j -0.0146+0.j  0.0049+0.j -0.0379+0.j  0.1544+0.j -0.2682+0.j\n",
            " -0.4032+0.j]\n",
            "1.1088531375693226e-14 [ 0.5109+0.j  0.143 +0.j -0.2899+0.j  0.4079+0.j -0.142 +0.j  0.3662+0.j\n",
            "  0.2302+0.j -0.0601+0.j -0.0584+0.j  0.1601+0.j  0.1236+0.j -0.1022+0.j\n",
            " -0.45  +0.j]\n",
            "7.291167148255143e-15 [ 0.1167+0.j -0.2582+0.j -0.314 +0.j  0.2355+0.j  0.356 +0.j  0.0151+0.j\n",
            "  0.096 +0.j -0.3352+0.j -0.1314+0.j  0.0734+0.j  0.363 +0.j -0.585 +0.j\n",
            " -0.1431+0.j]\n",
            "4.552191422920877e-15 [-0.0599+4.0249e-01j -0.0346+4.1451e-04j  0.094 -3.1131e-01j\n",
            " -0.2828+1.3446e-01j  0.2642+1.7273e-01j -0.4145+0.0000e+00j\n",
            " -0.2093+5.6260e-05j  0.0503+4.6325e-02j  0.1912+1.0386e-01j\n",
            " -0.3619-1.1673e-01j  0.0629+1.0959e-01j -0.0548-9.0887e-02j\n",
            "  0.206 -2.1879e-01j]\n",
            "4.552191422920877e-15 [-0.0599-4.0249e-01j -0.0346-4.1451e-04j  0.094 +3.1131e-01j\n",
            " -0.2828-1.3446e-01j  0.2642-1.7273e-01j -0.4145-0.0000e+00j\n",
            " -0.2093-5.6260e-05j  0.0503-4.6325e-02j  0.1912-1.0386e-01j\n",
            " -0.3619+1.1673e-01j  0.0629-1.0959e-01j -0.0548+9.0887e-02j\n",
            "  0.206 +2.1879e-01j]\n",
            "2.6938964520747003e-15 [-0.0865+0.j  0.1086+0.j  0.1601+0.j  0.3269+0.j -0.4732+0.j  0.4449+0.j\n",
            "  0.2882+0.j -0.1461+0.j -0.2749+0.j  0.4512+0.j -0.1039+0.j  0.1058+0.j\n",
            " -0.1442+0.j]\n"
          ],
          "name": "stdout"
        }
      ]
    },
    {
      "cell_type": "markdown",
      "metadata": {
        "id": "ce5BdOKw8n1V"
      },
      "source": [
        "0이 아닌 고윳값이 두개만 있음. 나머지는 부동 소수점 계산 오류로, 원래는 0이라고 보는게 맞음\n",
        "\n",
        "이 결과를 토대로 변환 행렬을 제작한다."
      ]
    },
    {
      "cell_type": "code",
      "metadata": {
        "colab": {
          "base_uri": "https://localhost:8080/"
        },
        "id": "Dbua4xuw8Pl-",
        "outputId": "ea8a1c48-fd54-484b-9e1f-5fa23fc77bdb"
      },
      "source": [
        "w_lda = np.hstack((eigen_pairs_lda[0][1][:, np.newaxis].real, eigen_pairs_lda[1][1][:, np.newaxis].real))\n",
        "\n",
        "print(w_lda)"
      ],
      "execution_count": 7,
      "outputs": [
        {
          "output_type": "stream",
          "text": [
            "[[-0.1484 -0.4093]\n",
            " [ 0.091  -0.1583]\n",
            " [-0.0168 -0.3536]\n",
            " [ 0.1487  0.322 ]\n",
            " [-0.0165 -0.0813]\n",
            " [ 0.1912  0.0841]\n",
            " [-0.7333  0.2828]\n",
            " [-0.0751 -0.0099]\n",
            " [ 0.002   0.0902]\n",
            " [ 0.2953 -0.2168]\n",
            " [-0.0327  0.274 ]\n",
            " [-0.3539 -0.0133]\n",
            " [-0.3918 -0.5954]]\n"
          ],
          "name": "stdout"
        }
      ]
    },
    {
      "cell_type": "markdown",
      "metadata": {
        "id": "60CyfsX99_hz"
      },
      "source": [
        "새로운 샘플 공간으로 투영!"
      ]
    },
    {
      "cell_type": "code",
      "metadata": {
        "colab": {
          "base_uri": "https://localhost:8080/",
          "height": 265
        },
        "id": "DF0xINEk-GGs",
        "outputId": "353026f7-5fbb-4b4d-fbc0-9da9987bc640"
      },
      "source": [
        "X_train_lda = X_train_std.dot(w_lda)\n",
        "\n",
        "colors = ['r', 'b', 'g']\n",
        "markers = ['s', 'x', 'o']\n",
        "\n",
        "for i, c, m in zip(np.unique(y_train), colors, markers):\n",
        "  plt.scatter(X_train_lda[y_train==i, 0], X_train_lda[y_train==i, 1] * -1, c=c, label=i, marker=m)\n",
        "\n",
        "plt.legend(loc='best')\n",
        "plt.show()"
      ],
      "execution_count": 8,
      "outputs": [
        {
          "output_type": "display_data",
          "data": {
            "image/png": "[encoded data removed]",
            "text/plain": [
              "<Figure size 432x288 with 1 Axes>"
            ]
          },
          "metadata": {
            "tags": [],
            "needs_background": "light"
          }
        }
      ]
    },
    {
      "cell_type": "markdown",
      "metadata": {
        "id": "DM8I5lie-W9w"
      },
      "source": [
        "더욱 선형적으로 구분하기가 쉬워졌다!"
      ]
    },
    {
      "cell_type": "markdown",
      "metadata": {
        "id": "kBPNNYQ3-dY2"
      },
      "source": [
        "이제 사이킷런으로 LDA 실행하기"
      ]
    },
    {
      "cell_type": "code",
      "metadata": {
        "colab": {
          "base_uri": "https://localhost:8080/",
          "height": 269
        },
        "id": "q7TKXPlL-gm1",
        "outputId": "aeb310ff-3209-4541-d6fa-1f613408401b"
      },
      "source": [
        "from sklearn.discriminant_analysis import LinearDiscriminantAnalysis as LDA\n",
        "lda = LDA(n_components=2)\n",
        "X_train_lda_sklearn = lda.fit_transform(X_train_std, y_train)\n",
        "\n",
        "colors = ['r', 'b', 'g']\n",
        "markers = ['s', 'x', 'o']\n",
        "\n",
        "for i, c, m in zip(np.unique(y_train), colors, markers):\n",
        "  plt.scatter(X_train_lda_sklearn[y_train==i, 0], X_train_lda_sklearn[y_train==i, 1], c=c, label=i, marker=m)\n",
        "\n",
        "plt.legend(loc='best')\n",
        "plt.show()"
      ],
      "execution_count": 9,
      "outputs": [
        {
          "output_type": "display_data",
          "data": {
            "image/png": "[encoded data removed]",
            "text/plain": [
              "<Figure size 432x288 with 1 Axes>"
            ]
          },
          "metadata": {
            "tags": [],
            "needs_background": "light"
          }
        }
      ]
    },
    {
      "cell_type": "markdown",
      "metadata": {
        "id": "SF0xIstbHc0W"
      },
      "source": [
        "커널 PCA로 비선형적 데이터를 선형적으로 구분 가능한 공간으로 변경"
      ]
    },
    {
      "cell_type": "code",
      "metadata": {
        "id": "ZAa3iOgwHlXx"
      },
      "source": [
        "from sklearn.decomposition import KernelPCA\n",
        "kpca =KernelPCA(n_components=2, kernel='rbf', gamma=15)\n",
        "X_kpca = kpca.fit_transform(X)"
      ],
      "execution_count": 11,
      "outputs": []
    }
  ]
}