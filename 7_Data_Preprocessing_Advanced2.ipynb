{
  "nbformat": 4,
  "nbformat_minor": 0,
  "metadata": {
    "colab": {
      "name": "7_Data_Preprocessing_Advanced2.ipynb",
      "provenance": [],
      "collapsed_sections": [],
      "authorship_tag": "ABX9TyNxAsKWx+YEzyfiFqW2Ro4K",
      "include_colab_link": true
    },
    "kernelspec": {
      "name": "python3",
      "display_name": "Python 3"
    },
    "language_info": {
      "name": "python"
    }
  },
  "cells": [
    {
      "cell_type": "markdown",
      "metadata": {
        "id": "view-in-github",
        "colab_type": "text"
      },
      "source": [
        "<a href=\"https://colab.research.google.com/github/jellyho/AI_Learning_jellyho/blob/main/7_Data_Preprocessing_Advanced2.ipynb\" target=\"_parent\"><img src=\"https://colab.research.google.com/assets/colab-badge.svg\" alt=\"Open In Colab\"/></a>"
      ]
    },
    {
      "cell_type": "markdown",
      "metadata": {
        "id": "KymNKEJHx_6G"
      },
      "source": [
        "1. PCA로 주성분 추출하기 (비지도 차원 축소)"
      ]
    },
    {
      "cell_type": "code",
      "metadata": {
        "id": "rA6MAYgxyEuk"
      },
      "source": [
        "import pandas as pd\n",
        "import numpy as np\n",
        "import matplotlib.pyplot as plt\n",
        "\n",
        "df_wine = pd.read_csv('https://archive.ics.uci.edu/ml/machine-learning-databases/wine/wine.data',header=None)"
      ],
      "execution_count": 13,
      "outputs": []
    },
    {
      "cell_type": "markdown",
      "metadata": {
        "id": "EDyR-cpX7e7Y"
      },
      "source": [
        "테스트 셋 분리하고 표준화"
      ]
    },
    {
      "cell_type": "code",
      "metadata": {
        "id": "x0PtRTRqygKZ"
      },
      "source": [
        "from sklearn.model_selection import train_test_split\n",
        "X, y = df_wine.iloc[:, 1:].values, df_wine.iloc[:, 0].values\n",
        "X_train, X_test, y_train, y_test = train_test_split(X, y, test_size=0.3, stratify=y, random_state=0)\n",
        "\n",
        "from sklearn.preprocessing import StandardScaler as SC\n",
        "sc = SC()\n",
        "X_train_std = sc.fit_transform(X_train)\n",
        "X_test_std = sc.transform(X_test)"
      ],
      "execution_count": 15,
      "outputs": []
    },
    {
      "cell_type": "markdown",
      "metadata": {
        "id": "Fpegmdd-7iHo"
      },
      "source": [
        "공분산 행렬 구해서 고윳값과 고유벡터 구하기, 그리고 그 중에서 분산이 제일 높은 벡터 두개만 구해서 투영 행렬을 구성하고 투영해서 N*2 차원의 행렬로 변경, 산점도 그리기"
      ]
    },
    {
      "cell_type": "code",
      "metadata": {
        "colab": {
          "base_uri": "https://localhost:8080/",
          "height": 265
        },
        "id": "FnAim2ebz-2B",
        "outputId": "0d6a1cbe-4622-414e-9e2f-2bcbd47c2369"
      },
      "source": [
        "cov_matrix = np.cov(X_train_std.T)\n",
        "eigen_vals, eigen_vecs = np.linalg.eig(cov_matrix)\n",
        "\n",
        "eigen_pairs = [(np.abs(eigen_vals[i]), eigen_vecs[:, i]) for i in range(len(eigen_vals))]\n",
        "\n",
        "eigen_pairs.sort(key=lambda k: k[0], reverse=True)\n",
        "\n",
        "w = np.hstack((eigen_pairs[0][1][:, np.newaxis], eigen_pairs[1][1][:, np.newaxis]))\n",
        "\n",
        "X_train_pca = X_train_std.dot(w)\n",
        "\n",
        "colors = ['r', 'b', 'g']\n",
        "markers = ['s', 'x', 'o']\n",
        "\n",
        "for i, c, m in zip(np.unique(y_train), colors, markers):\n",
        "  plt.scatter(X_train_pca[y_train==i, 0], X_train_pca[y_train==i, 1], c=c, label=i, marker=m)\n",
        "\n",
        "plt.legend(loc='best')\n",
        "plt.show()"
      ],
      "execution_count": 18,
      "outputs": [
        {
          "output_type": "display_data",
          "data": {
            "image/png": "[encoded data removed]",
            "text/plain": [
              "<Figure size 432x288 with 1 Axes>"
            ]
          },
          "metadata": {
            "tags": [],
            "needs_background": "light"
          }
        }
      ]
    },
    {
      "cell_type": "markdown",
      "metadata": {
        "id": "nAdZu9iQ78VH"
      },
      "source": [
        "사이킷런으로 사용하기"
      ]
    },
    {
      "cell_type": "code",
      "metadata": {
        "colab": {
          "base_uri": "https://localhost:8080/",
          "height": 265
        },
        "id": "JXLAbqLN7-ON",
        "outputId": "6288f26e-e3c9-494e-a30f-c671cd9946c1"
      },
      "source": [
        "from sklearn.decomposition import PCA\n",
        "pca = PCA(n_components=2)\n",
        "X_train_pca = pca.fit_transform(X_train_std)\n",
        "X_test_pca = pca.transform(X_test_std)\n",
        "\n",
        "colors = ['r', 'b', 'g']\n",
        "markers = ['s', 'x', 'o']\n",
        "\n",
        "for i, c, m in zip(np.unique(y_train), colors, markers):\n",
        "  plt.scatter(X_train_pca[y_train==i, 0], X_train_pca[y_train==i, 1], c=c, label=i, marker=m)\n",
        "\n",
        "plt.legend(loc='best')\n",
        "plt.show()"
      ],
      "execution_count": 19,
      "outputs": [
        {
          "output_type": "display_data",
          "data": {
            "image/png": "[encoded data removed]",
            "text/plain": [
              "<Figure size 432x288 with 1 Axes>"
            ]
          },
          "metadata": {
            "tags": [],
            "needs_background": "light"
          }
        }
      ]
    },
    {
      "cell_type": "markdown",
      "metadata": {
        "id": "vcK2C6Fh8d__"
      },
      "source": [
        "이 상태로 선형 분류기를 사용하면 잘 분류가 될 것 같다."
      ]
    },
    {
      "cell_type": "markdown",
      "metadata": {
        "id": "9XFP8K5i8tRG"
      },
      "source": [
        "2. LDA로 데이터 압축하기"
      ]
    }
  ]
}