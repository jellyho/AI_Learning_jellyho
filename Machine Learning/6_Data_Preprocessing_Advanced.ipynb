{
  "nbformat": 4,
  "nbformat_minor": 0,
  "metadata": {
    "colab": {
      "name": "6_Data_Preprocessing_Advanced.ipynb",
      "provenance": [],
      "collapsed_sections": [],
      "authorship_tag": "ABX9TyPxwatI10pxx9InJKAqbFcR",
      "include_colab_link": true
    },
    "kernelspec": {
      "name": "python3",
      "display_name": "Python 3"
    },
    "language_info": {
      "name": "python"
    }
  },
  "cells": [
    {
      "cell_type": "markdown",
      "metadata": {
        "id": "view-in-github",
        "colab_type": "text"
      },
      "source": [
        "<a href=\"https://colab.research.google.com/github/jellyho/AI_Learning_jellyho/blob/main/6_Data_Preprocessing_Advanced.ipynb\" target=\"_parent\"><img src=\"https://colab.research.google.com/assets/colab-badge.svg\" alt=\"Open In Colab\"/></a>"
      ]
    },
    {
      "cell_type": "code",
      "metadata": {
        "id": "14HQGf8nF9dW"
      },
      "source": [
        "import pandas as pd\n",
        "import numpy as np"
      ],
      "execution_count": 1,
      "outputs": []
    },
    {
      "cell_type": "markdown",
      "metadata": {
        "id": "ewTizkwiIERm"
      },
      "source": [
        "데이터 불러오기"
      ]
    },
    {
      "cell_type": "code",
      "metadata": {
        "colab": {
          "base_uri": "https://localhost:8080/",
          "height": 419
        },
        "id": "imNfYkPgHWg4",
        "outputId": "f8609e06-3ae5-410b-c3e6-c824d11acb79"
      },
      "source": [
        "df = pd.read_csv('https://archive.ics.uci.edu/ml/machine-learning-databases/wine/wine.data')\n",
        "df.columns = ['Class label', 'Alcohol', 'Malic Acid', 'Ash', 'Alcalinity of Ash', 'Magnesium', 'Total phenols', 'Flavanoids', 'Nonflavanoid phenols', 'Proanthocyanins', 'Color intensity', 'Hue', 'OD280/OD315 of diluted wines', 'Proline']\n",
        "df"
      ],
      "execution_count": 2,
      "outputs": [
        {
          "output_type": "execute_result",
          "data": {
            "text/html": [
              "<div>\n",
              "<style scoped>\n",
              "    .dataframe tbody tr th:only-of-type {\n",
              "        vertical-align: middle;\n",
              "    }\n",
              "\n",
              "    .dataframe tbody tr th {\n",
              "        vertical-align: top;\n",
              "    }\n",
              "\n",
              "    .dataframe thead th {\n",
              "        text-align: right;\n",
              "    }\n",
              "</style>\n",
              "<table border=\"1\" class=\"dataframe\">\n",
              "  <thead>\n",
              "    <tr style=\"text-align: right;\">\n",
              "      <th></th>\n",
              "      <th>Class label</th>\n",
              "      <th>Alcohol</th>\n",
              "      <th>Malic Acid</th>\n",
              "      <th>Ash</th>\n",
              "      <th>Alcalinity of Ash</th>\n",
              "      <th>Magnesium</th>\n",
              "      <th>Total phenols</th>\n",
              "      <th>Flavanoids</th>\n",
              "      <th>Nonflavanoid phenols</th>\n",
              "      <th>Proanthocyanins</th>\n",
              "      <th>Color intensity</th>\n",
              "      <th>Hue</th>\n",
              "      <th>OD280/OD315 of diluted wines</th>\n",
              "      <th>Proline</th>\n",
              "    </tr>\n",
              "  </thead>\n",
              "  <tbody>\n",
              "    <tr>\n",
              "      <th>0</th>\n",
              "      <td>1</td>\n",
              "      <td>13.20</td>\n",
              "      <td>1.78</td>\n",
              "      <td>2.14</td>\n",
              "      <td>11.2</td>\n",
              "      <td>100</td>\n",
              "      <td>2.65</td>\n",
              "      <td>2.76</td>\n",
              "      <td>0.26</td>\n",
              "      <td>1.28</td>\n",
              "      <td>4.38</td>\n",
              "      <td>1.05</td>\n",
              "      <td>3.40</td>\n",
              "      <td>1050</td>\n",
              "    </tr>\n",
              "    <tr>\n",
              "      <th>1</th>\n",
              "      <td>1</td>\n",
              "      <td>13.16</td>\n",
              "      <td>2.36</td>\n",
              "      <td>2.67</td>\n",
              "      <td>18.6</td>\n",
              "      <td>101</td>\n",
              "      <td>2.80</td>\n",
              "      <td>3.24</td>\n",
              "      <td>0.30</td>\n",
              "      <td>2.81</td>\n",
              "      <td>5.68</td>\n",
              "      <td>1.03</td>\n",
              "      <td>3.17</td>\n",
              "      <td>1185</td>\n",
              "    </tr>\n",
              "    <tr>\n",
              "      <th>2</th>\n",
              "      <td>1</td>\n",
              "      <td>14.37</td>\n",
              "      <td>1.95</td>\n",
              "      <td>2.50</td>\n",
              "      <td>16.8</td>\n",
              "      <td>113</td>\n",
              "      <td>3.85</td>\n",
              "      <td>3.49</td>\n",
              "      <td>0.24</td>\n",
              "      <td>2.18</td>\n",
              "      <td>7.80</td>\n",
              "      <td>0.86</td>\n",
              "      <td>3.45</td>\n",
              "      <td>1480</td>\n",
              "    </tr>\n",
              "    <tr>\n",
              "      <th>3</th>\n",
              "      <td>1</td>\n",
              "      <td>13.24</td>\n",
              "      <td>2.59</td>\n",
              "      <td>2.87</td>\n",
              "      <td>21.0</td>\n",
              "      <td>118</td>\n",
              "      <td>2.80</td>\n",
              "      <td>2.69</td>\n",
              "      <td>0.39</td>\n",
              "      <td>1.82</td>\n",
              "      <td>4.32</td>\n",
              "      <td>1.04</td>\n",
              "      <td>2.93</td>\n",
              "      <td>735</td>\n",
              "    </tr>\n",
              "    <tr>\n",
              "      <th>4</th>\n",
              "      <td>1</td>\n",
              "      <td>14.20</td>\n",
              "      <td>1.76</td>\n",
              "      <td>2.45</td>\n",
              "      <td>15.2</td>\n",
              "      <td>112</td>\n",
              "      <td>3.27</td>\n",
              "      <td>3.39</td>\n",
              "      <td>0.34</td>\n",
              "      <td>1.97</td>\n",
              "      <td>6.75</td>\n",
              "      <td>1.05</td>\n",
              "      <td>2.85</td>\n",
              "      <td>1450</td>\n",
              "    </tr>\n",
              "    <tr>\n",
              "      <th>...</th>\n",
              "      <td>...</td>\n",
              "      <td>...</td>\n",
              "      <td>...</td>\n",
              "      <td>...</td>\n",
              "      <td>...</td>\n",
              "      <td>...</td>\n",
              "      <td>...</td>\n",
              "      <td>...</td>\n",
              "      <td>...</td>\n",
              "      <td>...</td>\n",
              "      <td>...</td>\n",
              "      <td>...</td>\n",
              "      <td>...</td>\n",
              "      <td>...</td>\n",
              "    </tr>\n",
              "    <tr>\n",
              "      <th>172</th>\n",
              "      <td>3</td>\n",
              "      <td>13.71</td>\n",
              "      <td>5.65</td>\n",
              "      <td>2.45</td>\n",
              "      <td>20.5</td>\n",
              "      <td>95</td>\n",
              "      <td>1.68</td>\n",
              "      <td>0.61</td>\n",
              "      <td>0.52</td>\n",
              "      <td>1.06</td>\n",
              "      <td>7.70</td>\n",
              "      <td>0.64</td>\n",
              "      <td>1.74</td>\n",
              "      <td>740</td>\n",
              "    </tr>\n",
              "    <tr>\n",
              "      <th>173</th>\n",
              "      <td>3</td>\n",
              "      <td>13.40</td>\n",
              "      <td>3.91</td>\n",
              "      <td>2.48</td>\n",
              "      <td>23.0</td>\n",
              "      <td>102</td>\n",
              "      <td>1.80</td>\n",
              "      <td>0.75</td>\n",
              "      <td>0.43</td>\n",
              "      <td>1.41</td>\n",
              "      <td>7.30</td>\n",
              "      <td>0.70</td>\n",
              "      <td>1.56</td>\n",
              "      <td>750</td>\n",
              "    </tr>\n",
              "    <tr>\n",
              "      <th>174</th>\n",
              "      <td>3</td>\n",
              "      <td>13.27</td>\n",
              "      <td>4.28</td>\n",
              "      <td>2.26</td>\n",
              "      <td>20.0</td>\n",
              "      <td>120</td>\n",
              "      <td>1.59</td>\n",
              "      <td>0.69</td>\n",
              "      <td>0.43</td>\n",
              "      <td>1.35</td>\n",
              "      <td>10.20</td>\n",
              "      <td>0.59</td>\n",
              "      <td>1.56</td>\n",
              "      <td>835</td>\n",
              "    </tr>\n",
              "    <tr>\n",
              "      <th>175</th>\n",
              "      <td>3</td>\n",
              "      <td>13.17</td>\n",
              "      <td>2.59</td>\n",
              "      <td>2.37</td>\n",
              "      <td>20.0</td>\n",
              "      <td>120</td>\n",
              "      <td>1.65</td>\n",
              "      <td>0.68</td>\n",
              "      <td>0.53</td>\n",
              "      <td>1.46</td>\n",
              "      <td>9.30</td>\n",
              "      <td>0.60</td>\n",
              "      <td>1.62</td>\n",
              "      <td>840</td>\n",
              "    </tr>\n",
              "    <tr>\n",
              "      <th>176</th>\n",
              "      <td>3</td>\n",
              "      <td>14.13</td>\n",
              "      <td>4.10</td>\n",
              "      <td>2.74</td>\n",
              "      <td>24.5</td>\n",
              "      <td>96</td>\n",
              "      <td>2.05</td>\n",
              "      <td>0.76</td>\n",
              "      <td>0.56</td>\n",
              "      <td>1.35</td>\n",
              "      <td>9.20</td>\n",
              "      <td>0.61</td>\n",
              "      <td>1.60</td>\n",
              "      <td>560</td>\n",
              "    </tr>\n",
              "  </tbody>\n",
              "</table>\n",
              "<p>177 rows × 14 columns</p>\n",
              "</div>"
            ],
            "text/plain": [
              "     Class label  Alcohol  ...  OD280/OD315 of diluted wines  Proline\n",
              "0              1    13.20  ...                          3.40     1050\n",
              "1              1    13.16  ...                          3.17     1185\n",
              "2              1    14.37  ...                          3.45     1480\n",
              "3              1    13.24  ...                          2.93      735\n",
              "4              1    14.20  ...                          2.85     1450\n",
              "..           ...      ...  ...                           ...      ...\n",
              "172            3    13.71  ...                          1.74      740\n",
              "173            3    13.40  ...                          1.56      750\n",
              "174            3    13.27  ...                          1.56      835\n",
              "175            3    13.17  ...                          1.62      840\n",
              "176            3    14.13  ...                          1.60      560\n",
              "\n",
              "[177 rows x 14 columns]"
            ]
          },
          "metadata": {
            "tags": []
          },
          "execution_count": 2
        }
      ]
    },
    {
      "cell_type": "markdown",
      "metadata": {
        "id": "IEsPrOINIGbY"
      },
      "source": [
        "데이터 훈련셋과 테스트셋으로 나누기"
      ]
    },
    {
      "cell_type": "code",
      "metadata": {
        "id": "80-RcQyfI32p"
      },
      "source": [
        "from sklearn.model_selection import train_test_split as tts\n",
        "X, y = df.iloc[:, 1:].values, df.iloc[:,0].values\n",
        "X_train, X_test, y_train, y_test = tts(X, y, test_size=0.3, random_state=0, stratify=y)"
      ],
      "execution_count": 3,
      "outputs": []
    },
    {
      "cell_type": "markdown",
      "metadata": {
        "id": "geEeqfw2LOGX"
      },
      "source": [
        "최소-최대 변환 x = (x - x_min) / (x_max - x_min) 변수의 값을 0에서 1사이로 맞추는 것"
      ]
    },
    {
      "cell_type": "code",
      "metadata": {
        "id": "k7gf9CczLOY4",
        "colab": {
          "base_uri": "https://localhost:8080/"
        },
        "outputId": "6511e54e-ccbc-4bbc-f266-5590529d2e82"
      },
      "source": [
        "from sklearn.preprocessing import MinMaxScaler as MMS\n",
        "mms = MMS()\n",
        "mms.fit(X_train)\n",
        "X_train_norm = mms.transform(X_train)\n",
        "X_test_norm = mms.transform(X_test)\n",
        "X_train_norm"
      ],
      "execution_count": 18,
      "outputs": [
        {
          "output_type": "execute_result",
          "data": {
            "text/plain": [
              "array([[0.51461988, 0.87944664, 0.40522876, ..., 0.12765957, 0.08677686,\n",
              "        0.31883024],\n",
              "       [0.6871345 , 0.15612648, 0.65359477, ..., 0.81914894, 0.71487603,\n",
              "        0.68259629],\n",
              "       [0.67836257, 0.15019763, 0.65359477, ..., 0.75531915, 0.59504132,\n",
              "        0.71825963],\n",
              "       ...,\n",
              "       [0.64619883, 0.83201581, 0.4248366 , ..., 0.45744681, 0.32231405,\n",
              "        0.19400856],\n",
              "       [0.23684211, 0.10869565, 0.15686275, ..., 0.40425532, 0.7231405 ,\n",
              "        0.02425107],\n",
              "       [0.47953216, 1.        , 0.28104575, ..., 0.26595745, 0.75619835,\n",
              "        0.07275321]])"
            ]
          },
          "metadata": {
            "tags": []
          },
          "execution_count": 18
        }
      ]
    },
    {
      "cell_type": "markdown",
      "metadata": {
        "id": "OunnS6edM-Ek"
      },
      "source": [
        "표준화 -> 평균이 0이고 표준편차가 1인 분포로 만드는 것"
      ]
    },
    {
      "cell_type": "code",
      "metadata": {
        "id": "6uljraTpNEtU",
        "colab": {
          "base_uri": "https://localhost:8080/"
        },
        "outputId": "2e681b96-0383-4ad3-a69b-3f4e85f91398"
      },
      "source": [
        "std = X_train.std(axis=0)\n",
        "mean = X_train.mean(axis=0)\n",
        "X_train_std = (X_train - mean) / std\n",
        "X_test_std = (X_test - mean) / std\n",
        "X_train_std"
      ],
      "execution_count": 26,
      "outputs": [
        {
          "output_type": "execute_result",
          "data": {
            "text/plain": [
              "array([[ 0.1937094 ,  2.37977151, -0.20420766, ..., -1.5782345 ,\n",
              "        -1.64200771, -0.08460637],\n",
              "       [ 0.92207682, -0.70975882,  1.25077192, ...,  1.40544599,\n",
              "         0.55879351,  1.47960155],\n",
              "       [ 0.88504119, -0.73508284,  1.25077192, ...,  1.13002933,\n",
              "         0.1389038 ,  1.63295526],\n",
              "       ...,\n",
              "       [ 0.74924387,  2.17717936, -0.08934085, ..., -0.15524842,\n",
              "        -0.81670726, -0.62134438],\n",
              "       [-0.97908559, -0.91235098, -1.65918724, ..., -0.3847623 ,\n",
              "         0.58775142, -1.35130807],\n",
              "       [ 0.04556687,  2.89469324, -0.93169745, ..., -0.9814984 ,\n",
              "         0.70358306, -1.14274701]])"
            ]
          },
          "metadata": {
            "tags": []
          },
          "execution_count": 26
        }
      ]
    },
    {
      "cell_type": "markdown",
      "metadata": {
        "id": "40Ctd3apWuEr"
      },
      "source": [
        "만약 훈련세트에서 테스트세트에서보다 성능이 많이 높다면 과대적합의 증거이다. 이럴 때는 더욱 간단한 모델을 만들도록 노력해야 한다."
      ]
    },
    {
      "cell_type": "markdown",
      "metadata": {
        "id": "vq5NC_EHXDYs"
      },
      "source": [
        "특성 선택을 통해 차원을 축소시켜 학습 파라미터를 줄여 모델 복잡도를 줄여 더욱 간단한 모델을 만들 수 있다."
      ]
    },
    {
      "cell_type": "markdown",
      "metadata": {
        "id": "SuHor8woYaw_"
      },
      "source": [
        "1) 규제.\n",
        "\n",
        "L2 규제는 가중치의 제곱을 줄이는 것, L1규제는 가중치 절댓값을 줄이는 것이다. L1규제는 희소한 특성 벡터를 만들어 대부분의 가중치가 0이 된다. 이 뜻은 관련없는 특성을 무시하는 특성 선택의 기법이 될 수 있음을 의미한다."
      ]
    },
    {
      "cell_type": "markdown",
      "metadata": {
        "id": "MqkUSXsZZKlN"
      },
      "source": [
        "사이킷런에서 L1규제를 이용하여 로지스틱 회귀로 학습 시키기."
      ]
    },
    {
      "cell_type": "code",
      "metadata": {
        "colab": {
          "base_uri": "https://localhost:8080/"
        },
        "id": "xa9OLiJ1W6M4",
        "outputId": "da25b653-ace9-46cf-d8bc-8b503553aeba"
      },
      "source": [
        "from sklearn.linear_model import LogisticRegression as LG\n",
        "lr = LG(solver='liblinear', multi_class='auto', penalty='l1', C=1.0, random_state=46)\n",
        "lr.fit(X_train_std, y_train)\n",
        "print(lr.predict(X_test_std[20:25]),y_test[20:25])"
      ],
      "execution_count": 38,
      "outputs": [
        {
          "output_type": "stream",
          "text": [
            "[1 3 2 2 2] [1 3 2 2 2]\n"
          ],
          "name": "stdout"
        }
      ]
    },
    {
      "cell_type": "markdown",
      "metadata": {
        "id": "_2KwPZqoeKzx"
      },
      "source": [
        "2)차원축소.\n",
        "\n",
        "규제가 없는 모델에서 유용. 특성 선택과 특성 추출로 나뉜다. 순차 후진 선택이 대표적인 방법(SBS)"
      ]
    },
    {
      "cell_type": "code",
      "metadata": {
        "id": "Ysw6IIeYeS-N"
      },
      "source": [
        "from sklearn.base import clone\n",
        "from itertools import combinations\n",
        "from sklearn.metrics import accuracy_score\n",
        "from sklearn.model_selection import train_test_split\n",
        "\n",
        "class SBS():\n",
        "  def __init__(self, estimator, k_features, scoring=accuracy_score, test_size=0.25, random_state=1):\n",
        "    self.scoring = scoring\n",
        "    self.estimator = estimator\n",
        "    self.k_features = k_features\n",
        "    self.test_size = test_size\n",
        "    self.random_state = random_state\n",
        "  \n",
        "  def fit(self, X, y):\n",
        "    X_train, X_test, y_train, y_test = train_test_split(X, y, test_size=self.test_size, random_state=self.random_state)\n",
        "\n",
        "    dim = X_train.shape[1]\n",
        "    self.indices_ = tuple(range(dim))\n",
        "    self.subsets_ = [self.indices_]\n",
        "    score = self._calc_score(X_train, y_train, X_test, y_test, self.indices_)\n",
        "    self.scores_ = [score]\n",
        "\n",
        "    while dim > self.k_features:\n",
        "      scores = []\n",
        "      subsets = []\n",
        "\n",
        "      for p in combinations(self.indices_, r=dim -1):\n",
        "        score = self._calc_score(X_train, y_train, X_test, y_test, p)\n",
        "        scores.append(score)\n",
        "        subsets.append(p)\n",
        "\n",
        "      best = np.argmax(scores)\n",
        "      self.indices_ = subsets[best]\n",
        "      self.subsets_.append(self.indices_)\n",
        "      dim = dim -1\n",
        "\n",
        "      self.scores_.append(scores[best])\n",
        "    self.k_score_ = self.scores_[-1]\n",
        "\n",
        "    return self\n",
        "\n",
        "  def transform(self, X):\n",
        "    return X[:, self.indices_]\n",
        "\n",
        "  def _calc_score(self, X_train, y_train, X_test, y_test, indices):\n",
        "    self.estimator.fit(X_train[:, indices], y_train)\n",
        "    y_pred = self.estimator.predict(X_test[:,indices])\n",
        "    score = self.scoring(y_test, y_pred)\n",
        "    return score"
      ],
      "execution_count": 46,
      "outputs": []
    },
    {
      "cell_type": "markdown",
      "metadata": {
        "id": "I-GT7QBwlVsi"
      },
      "source": [
        "차원 축소 효과 시각화"
      ]
    },
    {
      "cell_type": "code",
      "metadata": {
        "colab": {
          "base_uri": "https://localhost:8080/",
          "height": 297
        },
        "id": "N2jpahBFkO2o",
        "outputId": "cc131804-d491-42e4-883b-dac789a84054"
      },
      "source": [
        "import matplotlib.pyplot as plt\n",
        "from sklearn.neighbors import KNeighborsClassifier as KNC\n",
        "\n",
        "knn = KNC(n_neighbors=5)\n",
        "\n",
        "sbs = SBS(knn, k_features=1)\n",
        "sbs.fit(X_train_std, y_train)\n",
        "\n",
        "k_feat = [len(k) for k in sbs.subsets_]\n",
        "\n",
        "plt.plot(k_feat, sbs.scores_, marker='o')\n",
        "plt.grid()\n",
        "plt.tight_layout()\n",
        "plt.show()"
      ],
      "execution_count": 48,
      "outputs": [
        {
          "output_type": "display_data",
          "data": {
            "image/png": "[encoded data removed]",
            "text/plain": [
              "<Figure size 432x288 with 1 Axes>"
            ]
          },
          "metadata": {
            "tags": [],
            "needs_background": "light"
          }
        }
      ]
    },
    {
      "cell_type": "markdown",
      "metadata": {
        "id": "81q1uPaymk-U"
      },
      "source": [
        "그래프를 보면 특성이 작은 것 중에 좋은 성과를 보이는 것은 특성이 4개일 때이다. 이때의 특성 목록을 출력하면 아래와 같다."
      ]
    },
    {
      "cell_type": "code",
      "metadata": {
        "colab": {
          "base_uri": "https://localhost:8080/"
        },
        "id": "EfaqKXDbmtP7",
        "outputId": "d35c0cf2-20bb-4e60-c054-5bcb28124a86"
      },
      "source": [
        "k4 = list(sbs.subsets_[len(sbs.subsets_) - 4])\n",
        "print(df.columns[1:][k4])"
      ],
      "execution_count": 69,
      "outputs": [
        {
          "output_type": "stream",
          "text": [
            "Index(['Malic Acid', 'Proanthocyanins', 'Hue', 'Proline'], dtype='object')\n"
          ],
          "name": "stdout"
        }
      ]
    }
  ]
}
